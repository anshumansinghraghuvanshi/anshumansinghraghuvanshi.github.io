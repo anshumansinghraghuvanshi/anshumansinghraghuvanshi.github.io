{
 "cells": [
  {
   "cell_type": "code",
   "execution_count": 16,
   "metadata": {
    "collapsed": true
   },
   "outputs": [],
   "source": [
    "import tweepy\n",
    "import json"
   ]
  },
  {
   "cell_type": "code",
   "execution_count": 17,
   "metadata": {
    "collapsed": true
   },
   "outputs": [],
   "source": [
    "# Store OAuth authentication credentials in relevant variables\n",
    "access_token = \"xxxxxxxxxxxxxxxxxxxxxxxxxxxxxxxxxxxxxxxxxxxxxx\"\n",
    "access_token_secret = \"xxxxxxxxxxxxxxxxxxxxxxxxxxxxxxxxxxxxxxxxxxxxxx\"\n",
    "consumer_key = \"xxxxxxxxxxxxxxxxxxxx1\"\n",
    "consumer_secret = \"xxxxxxxxxxxxxxxxxxxxxxxxxxxxxxxxxxxxxxxxxxxxxx\""
   ]
  },
  {
   "cell_type": "code",
   "execution_count": 18,
   "metadata": {
    "collapsed": true
   },
   "outputs": [],
   "source": [
    "# Pass OAuth details to tweepy's OAuth handler\n",
    "auth = tweepy.OAuthHandler(consumer_key,consumer_secret)\n",
    "auth.set_access_token(access_token,access_token_secret)"
   ]
  },
  {
   "cell_type": "code",
   "execution_count": 19,
   "metadata": {
    "collapsed": true
   },
   "outputs": [],
   "source": [
    "class MyStreamListener(tweepy.StreamListener):\n",
    "    def __init__(self, api=None):\n",
    "        super(MyStreamListener, self).__init__()\n",
    "        self.num_tweets = 0\n",
    "        self.file = open(\"tweets.txt\", \"w\")\n",
    "\n",
    "    def on_status(self, status):\n",
    "        tweet = status._json\n",
    "        self.file.write( json.dumps(tweet) + '\\n' )\n",
    "        self.num_tweets += 1\n",
    "        if self.num_tweets < 10000:\n",
    "            return True\n",
    "        else:\n",
    "            return False\n",
    "        self.file.close()\n",
    "\n",
    "    def on_error(self, status):\n",
    "        print(status)"
   ]
  },
  {
   "cell_type": "code",
   "execution_count": 20,
   "metadata": {
    "collapsed": true
   },
   "outputs": [],
   "source": [
    "# Initialize Stream listener\n",
    "l = MyStreamListener()\n",
    "\n",
    "# Create you Stream object with authentication\n",
    "stream = tweepy.Stream(auth, l)\n",
    "\n",
    "\n",
    "# Filter Twitter Streams to capture data by the keywords:\n",
    "stream.filter(track = ['obama', 'trump', 'putin', 'modi'])"
   ]
  },
  {
   "cell_type": "code",
   "execution_count": 1,
   "metadata": {},
   "outputs": [
    {
     "name": "stdout",
     "output_type": "stream",
     "text": [
      "dict_keys(['created_at', 'id', 'id_str', 'text', 'source', 'truncated', 'in_reply_to_status_id', 'in_reply_to_status_id_str', 'in_reply_to_user_id', 'in_reply_to_user_id_str', 'in_reply_to_screen_name', 'user', 'geo', 'coordinates', 'place', 'contributors', 'retweeted_status', 'is_quote_status', 'quote_count', 'reply_count', 'retweet_count', 'favorite_count', 'entities', 'favorited', 'retweeted', 'possibly_sensitive', 'filter_level', 'lang', 'timestamp_ms'])\n"
     ]
    }
   ],
   "source": [
    "import json\n",
    "\n",
    "# String of path to file: tweets_data_path\n",
    "tweets_data_path = 'tweets.txt'\n",
    "\n",
    "# Initialize empty list to store tweets: tweets_data\n",
    "tweets_data = []\n",
    "\n",
    "# Open connection to file\n",
    "tweets_file = open(tweets_data_path, \"r\")\n",
    "\n",
    "# Read in tweets and store in list: tweets_data\n",
    "for line in tweets_file:\n",
    "    tweet = json.loads(line)\n",
    "    tweets_data.append(tweet)\n",
    "\n",
    "# Close connection to file\n",
    "tweets_file.close()\n",
    "\n",
    "# Print the keys of the first tweet dict\n",
    "print(tweets_data[0].keys())"
   ]
  },
  {
   "cell_type": "code",
   "execution_count": 2,
   "metadata": {},
   "outputs": [
    {
     "name": "stdout",
     "output_type": "stream",
     "text": [
      "                                                text lang\n",
      "0  RT @kylegriffin1: The Chinese government is ba...   en\n",
      "1  @realDonaldTrump The only person committing il...   en\n",
      "2  @krassenstein investigators are looking into b...   en\n",
      "3  RT @EdKrassen: Perhaps the GOP isn't covering ...   en\n",
      "4  RT @krassenstein: Mark This Tweet.  We will ha...   en\n"
     ]
    }
   ],
   "source": [
    "# Import package\n",
    "import pandas as pd\n",
    "\n",
    "# Build DataFrame of tweet texts and languages\n",
    "df = pd.DataFrame(tweets_data , columns= ['text', 'lang'])\n",
    "df2 = pd.DataFrame(tweets_data , columns= ['user'])\n",
    "\n",
    "\n",
    "\n",
    "\n",
    "# Print head of DataFrame\n",
    "print(df.head())\n",
    "\n"
   ]
  },
  {
   "cell_type": "code",
   "execution_count": 3,
   "metadata": {},
   "outputs": [
    {
     "name": "stdout",
     "output_type": "stream",
     "text": [
      "                                                text lang       location\n",
      "0  RT @kylegriffin1: The Chinese government is ba...   en           None\n",
      "1  @realDonaldTrump The only person committing il...   en           None\n",
      "2  @krassenstein investigators are looking into b...   en  United States\n",
      "3  RT @EdKrassen: Perhaps the GOP isn't covering ...   en   Puyallup, WA\n",
      "4  RT @krassenstein: Mark This Tweet.  We will ha...   en           None\n",
      "                                                   text lang  \\\n",
      "9507  RT @LionelMedia: The problem with papers like ...   en   \n",
      "9508  Trump’s instincts were right about this creatu...   en   \n",
      "9509  Modi's Kashmir Policy Is Playing Right Into th...   en   \n",
      "9510  I Guarantee,,, that Owner,,&amp; Coach Saying ...   en   \n",
      "9511  RT @RVAwonk: I really DGAF what Trump says and...   en   \n",
      "\n",
      "                 location  \n",
      "9507           Austin, TX  \n",
      "9508                 None  \n",
      "9509  Geneva, Switzerland  \n",
      "9510  North Carolina, USA  \n",
      "9511                 None  \n"
     ]
    }
   ],
   "source": [
    "location=[]\n",
    "for i in range(len(df2)):\n",
    "         location.append(df2['user'][i][\"location\"])\n",
    "df[\"location\"] = location\n",
    "\n",
    "print(df.head())\n",
    "print(df.tail())"
   ]
  },
  {
   "cell_type": "code",
   "execution_count": 4,
   "metadata": {
    "collapsed": true
   },
   "outputs": [],
   "source": [
    "import re\n",
    "\n",
    "def word_in_text(word, text):\n",
    "    word = word.lower()\n",
    "    text = text.lower()\n",
    "    match = re.search(word, text)\n",
    "\n",
    "    if match:\n",
    "        return True\n",
    "    return False\n",
    "\n"
   ]
  },
  {
   "cell_type": "code",
   "execution_count": 5,
   "metadata": {},
   "outputs": [
    {
     "name": "stdout",
     "output_type": "stream",
     "text": [
      "                                                text lang       location  \\\n",
      "0  RT @kylegriffin1: The Chinese government is ba...   en           None   \n",
      "1  @realDonaldTrump The only person committing il...   en           None   \n",
      "2  @krassenstein investigators are looking into b...   en  United States   \n",
      "3  RT @EdKrassen: Perhaps the GOP isn't covering ...   en   Puyallup, WA   \n",
      "4  RT @krassenstein: Mark This Tweet.  We will ha...   en           None   \n",
      "\n",
      "   names  \n",
      "0  trump  \n",
      "1  trump  \n",
      "2   None  \n",
      "3  trump  \n",
      "4  trump  \n",
      "[1040, 4401, 1092, 43]\n"
     ]
    }
   ],
   "source": [
    "[obama1, trump1 , putin1 , modi1 ]  = [0,0,0,0]\n",
    "names = []\n",
    "for index, row in df.iterrows():\n",
    "    \n",
    "    if word_in_text('obama', row['text']):\n",
    "        names.append(\"obama\")\n",
    "        obama1 +=1 \n",
    "    elif word_in_text('putin', row['text']):\n",
    "        names.append('putin')\n",
    "        putin1 +=1\n",
    "    elif word_in_text('modi', row['text']):\n",
    "        names.append('modi')\n",
    "        modi1 +=1\n",
    "    elif word_in_text('trump', row['text']):\n",
    "        names.append('trump')\n",
    "        trump1 +=1\n",
    "    else :\n",
    "        names.append('None')\n",
    "\n",
    "df[\"names\"] = names\n",
    "print(df.head())\n",
    "\n",
    "print([obama1, trump1 , putin1 , modi1 ])"
   ]
  },
  {
   "cell_type": "code",
   "execution_count": 6,
   "metadata": {},
   "outputs": [
    {
     "data": {
      "image/png": "[encoded data removed]",
      "text/plain": [
       "<matplotlib.figure.Figure at 0x117699978>"
      ]
     },
     "metadata": {},
     "output_type": "display_data"
    }
   ],
   "source": [
    "import matplotlib.pyplot as plt\n",
    "import seaborn as sns\n",
    "\n",
    "\n",
    "# Set seaborn style\n",
    "sns.set(color_codes=True)\n",
    "\n",
    "# Create a list of labels:cd\n",
    "cd = ['obama', 'trump', 'putin', 'modi']\n",
    "\n",
    "# Plot histogram\n",
    "ax = sns.barplot(cd,[obama1, trump1, putin1, modi1])\n",
    "ax.set(ylabel=\"count\")\n",
    "plt.title(\"Popularity Plot\")\n",
    "plt.show()"
   ]
  },
  {
   "cell_type": "code",
   "execution_count": 7,
   "metadata": {
    "collapsed": true
   },
   "outputs": [],
   "source": [
    "from textblob import TextBlob\n",
    "\n",
    "df1=df\n",
    "\n",
    "def strip_non_ascii(string):\n",
    "    ''' Returns the string without non ASCII characters'''\n",
    "    stripped = (c for c in string if 0 < ord(c) < 127)\n",
    "    return ''.join(stripped)"
   ]
  },
  {
   "cell_type": "code",
   "execution_count": 8,
   "metadata": {
    "collapsed": true
   },
   "outputs": [],
   "source": [
    "for index, row in df1.iterrows():\n",
    "       row[0]=row[0].lower()\n",
    "       row[0] = strip_non_ascii(row[0])\n",
    "       row[0] = re.sub(r'http[s]?://(?:[a-zA-Z]|[0-9]|[$-_@.&+]|[!*\\(\\),]|(?:%[0-9a-fA-F][0-9a-fA-F]))+', '', row[0])"
   ]
  },
  {
   "cell_type": "code",
   "execution_count": 9,
   "metadata": {
    "collapsed": true
   },
   "outputs": [],
   "source": [
    "polarity=[]\n",
    "for index, row in df1.iterrows():     \n",
    "        polarity.append(float(TextBlob(row[0]).sentiment.polarity))\n",
    "df1['polarity'] = polarity        \n",
    "\n"
   ]
  },
  {
   "cell_type": "code",
   "execution_count": 10,
   "metadata": {
    "collapsed": true
   },
   "outputs": [],
   "source": [
    "#Subsetting the data frame for the indivisuals\n",
    "dfobama=df1[df1[\"names\"]== \"obama\"]\n",
    "dftrump=df1[df1[\"names\"]== \"trump\"]\n",
    "dfputin=df1[df1[\"names\"]== \"putin\"]\n",
    "dfmodi=df1[df1[\"names\"]== \"modi\"]\n",
    "\n"
   ]
  },
  {
   "cell_type": "code",
   "execution_count": 11,
   "metadata": {
    "collapsed": true
   },
   "outputs": [],
   "source": [
    "# Taking Mean of all Polarities\n",
    "obama_pol=dfobama[\"polarity\"].mean()\n",
    "trump_pol=dftrump[\"polarity\"].mean()\n",
    "putin_pol=dfputin[\"polarity\"].mean()\n",
    "modi_pol= dfmodi[\"polarity\"].mean()"
   ]
  },
  {
   "cell_type": "code",
   "execution_count": 12,
   "metadata": {},
   "outputs": [
    {
     "data": {
      "image/png": "[encoded data removed]",
      "text/plain": [
       "<matplotlib.figure.Figure at 0x1a23b1bcc0>"
      ]
     },
     "metadata": {},
     "output_type": "display_data"
    }
   ],
   "source": [
    "# Creating Polarity plot\n",
    "sns.set(color_codes=True)\n",
    "\n",
    "# Create a list of labels:cd\n",
    "cd = ['obama', 'trump', 'putin', 'modi']\n",
    "\n",
    "# Plot histogram\n",
    "ax = sns.barplot(cd,[obama_pol, trump_pol, putin_pol, modi_pol])\n",
    "ax.set(ylabel=\"Polarity Mean\")\n",
    "plt.title(\"Sentiment Analysis Plot\")\n",
    "plt.show()"
   ]
  },
  {
   "cell_type": "code",
   "execution_count": 60,
   "metadata": {},
   "outputs": [
    {
     "data": {
      "image/png": "[encoded data removed]",
      "text/plain": [
       "<matplotlib.figure.Figure at 0x1a252e1d30>"
      ]
     },
     "metadata": {},
     "output_type": "display_data"
    }
   ],
   "source": [
    "tweets_by_location = dftrump['location'].value_counts()\n",
    "\n",
    "fig, ax = plt.subplots()\n",
    "ax.tick_params(axis='x', labelsize=15)\n",
    "ax.tick_params(axis='y', labelsize=10)\n",
    "ax.set_xlabel('Location', fontsize=15)\n",
    "ax.set_ylabel('Number of tweets' , fontsize=15)\n",
    "ax.set_title('States Tweet for Trump', fontsize=15, fontweight='bold')\n",
    "my_colors = 'rgbky'\n",
    "tweets_by_location[2:5].plot(ax=ax, kind='bar', color= my_colors)\n",
    "plt.show()"
   ]
  },
  {
   "cell_type": "raw",
   "metadata": {
    "collapsed": true
   },
   "source": []
  },
  {
   "cell_type": "code",
   "execution_count": 78,
   "metadata": {},
   "outputs": [
    {
     "data": {
      "text/html": [
       "<div>\n",
       "<style>\n",
       "    .dataframe thead tr:only-child th {\n",
       "        text-align: right;\n",
       "    }\n",
       "\n",
       "    .dataframe thead th {\n",
       "        text-align: left;\n",
       "    }\n",
       "\n",
       "    .dataframe tbody tr th {\n",
       "        vertical-align: top;\n",
       "    }\n",
       "</style>\n",
       "<table border=\"1\" class=\"dataframe\">\n",
       "  <thead>\n",
       "    <tr style=\"text-align: right;\">\n",
       "      <th></th>\n",
       "      <th>text</th>\n",
       "      <th>lang</th>\n",
       "      <th>location</th>\n",
       "      <th>names</th>\n",
       "      <th>polarity</th>\n",
       "    </tr>\n",
       "  </thead>\n",
       "  <tbody>\n",
       "    <tr>\n",
       "      <th>0</th>\n",
       "      <td>rt @kylegriffin1: the chinese government is ba...</td>\n",
       "      <td>en</td>\n",
       "      <td>None</td>\n",
       "      <td>trump</td>\n",
       "      <td>0.000000</td>\n",
       "    </tr>\n",
       "    <tr>\n",
       "      <th>1</th>\n",
       "      <td>@realdonaldtrump the only person committing il...</td>\n",
       "      <td>en</td>\n",
       "      <td>None</td>\n",
       "      <td>trump</td>\n",
       "      <td>-0.541667</td>\n",
       "    </tr>\n",
       "    <tr>\n",
       "      <th>2</th>\n",
       "      <td>@krassenstein investigators are looking into b...</td>\n",
       "      <td>en</td>\n",
       "      <td>United States</td>\n",
       "      <td>None</td>\n",
       "      <td>0.000000</td>\n",
       "    </tr>\n",
       "    <tr>\n",
       "      <th>3</th>\n",
       "      <td>rt @edkrassen: perhaps the gop isn't covering ...</td>\n",
       "      <td>en</td>\n",
       "      <td>Puyallup, WA</td>\n",
       "      <td>trump</td>\n",
       "      <td>0.000000</td>\n",
       "    </tr>\n",
       "    <tr>\n",
       "      <th>4</th>\n",
       "      <td>rt @krassenstein: mark this tweet.  we will ha...</td>\n",
       "      <td>en</td>\n",
       "      <td>None</td>\n",
       "      <td>trump</td>\n",
       "      <td>0.400000</td>\n",
       "    </tr>\n",
       "  </tbody>\n",
       "</table>\n",
       "</div>"
      ],
      "text/plain": [
       "                                                text lang       location  \\\n",
       "0  rt @kylegriffin1: the chinese government is ba...   en           None   \n",
       "1  @realdonaldtrump the only person committing il...   en           None   \n",
       "2  @krassenstein investigators are looking into b...   en  United States   \n",
       "3  rt @edkrassen: perhaps the gop isn't covering ...   en   Puyallup, WA   \n",
       "4  rt @krassenstein: mark this tweet.  we will ha...   en           None   \n",
       "\n",
       "   names  polarity  \n",
       "0  trump  0.000000  \n",
       "1  trump -0.541667  \n",
       "2   None  0.000000  \n",
       "3  trump  0.000000  \n",
       "4  trump  0.400000  "
      ]
     },
     "execution_count": 78,
     "metadata": {},
     "output_type": "execute_result"
    }
   ],
   "source": []
  },
  {
   "cell_type": "code",
   "execution_count": 63,
   "metadata": {},
   "outputs": [],
   "source": [
    "states = ['Florida, USA','California, USA','Texas, USA','United States']\n",
    "df3= dftrump[dftrump.location.isin(states)]"
   ]
  },
  {
   "cell_type": "code",
   "execution_count": 64,
   "metadata": {},
   "outputs": [
    {
     "name": "stdout",
     "output_type": "stream",
     "text": [
      "                                                   text lang         location  \\\n",
      "17    rt @krassenstein: there is a reason why the ma...   en    United States   \n",
      "55    rt @edkrassen: perhaps the gop isn't covering ...   en    United States   \n",
      "76    rt @repadamschiff: trump is choosing to promot...   en    United States   \n",
      "92    rt @ezralevin: trump got you angry? despondent...   en  California, USA   \n",
      "111   @kathygriffin and the funny thing is... you wo...   en       Texas, USA   \n",
      "159   rt @mitchellvii: if trump doesn't want to #mag...   en  California, USA   \n",
      "164   rt @kwilli1046: i've never seen a president go...   en     Florida, USA   \n",
      "233   rt @deplorablem1ke: liberals keep screaming tr...   en    United States   \n",
      "240   rt @johncardillo: yes, hillary won the popular...   en       Texas, USA   \n",
      "244   rt @donaldjtrumpjr: nothing is shocking anymor...   en    United States   \n",
      "254   andrs manuel lpez obrador le propuso a donald ...   es    United States   \n",
      "308   rt @paulkrugman: i've been traveling, and (bli...   en  California, USA   \n",
      "324   rt @proudresister: carter page is lying.\\n\\nde...   en     Florida, USA   \n",
      "347   rt @emptywheel: i wonder if others see how muc...   en    United States   \n",
      "380              rt @somexlcan: trump: wall\\nmexicans:    en    United States   \n",
      "381   rt @realdonaldtrump: looking more &amp; more l...   en    United States   \n",
      "419   rt @wiredsources: just in: president trump's j...   en     Florida, USA   \n",
      "427   rt @rmasher2: trump: \"the good news is that yo...   en    United States   \n",
      "433   @keltjorson @mitchellvii trump is a negotiator...   en     Florida, USA   \n",
      "439   check out trump bites, animated by bill plympt...   en  California, USA   \n",
      "446                        @jdawsey1 trump is a traitor   en  California, USA   \n",
      "482   rt @netanyahu: several days ago president trum...   en     Florida, USA   \n",
      "505   rt @jameskosur: a gop senate candidate was met...   en    United States   \n",
      "559   rt @wiredsources: just in: president trump's j...   en  California, USA   \n",
      "562   rt @donaldjtrumpjr: nothing is shocking anymor...   en    United States   \n",
      "616   rt @stranahan: flashback: who is bill browder?...   en    United States   \n",
      "648   rt @deepstateexpose: the deep state involves m...   en    United States   \n",
      "655   trump doesn't have his priorities straight.\\n\\...   en    United States   \n",
      "679   rt @evanasmith: via @jonathanvswan @axios: dur...   en       Texas, USA   \n",
      "681   rt @realdonaldtrump: looking more &amp; more l...   en    United States   \n",
      "...                                                 ...  ...              ...   \n",
      "8694  rt @bettemidler: from christine todd whitman: ...   en     Florida, USA   \n",
      "8695  @politico no one should  listen to this snake ...   en    United States   \n",
      "8702  rt @jdawsey1: judgment days: in a small alabam...   en     Florida, USA   \n",
      "8714  rt @mrfilmkritik: this stupid narrative of mel...   en    United States   \n",
      "8738  rt @thomas1774paine: trump @realdonaldtrump --...   en    United States   \n",
      "8809  rt @adamparkhomenko: exciting news! band membe...   en    United States   \n",
      "8856  rt @donaldjtrumpjr: nothing is shocking anymor...   en    United States   \n",
      "8871  rt @mitchellvii: if trump doesn't want to #mag...   en    United States   \n",
      "8877  \"if i win i may never see my property -- i may...   en    United States   \n",
      "8881  rt @funder: its only sunday and trumps already...   en    United States   \n",
      "8906  yep. sounds about right... with the crazy left...   en    United States   \n",
      "8939  @tin_house @jazminkfrost just drinking that tr...   en    United States   \n",
      "8987  rt @juliadavisnews: trump fought with all nato...   en    United States   \n",
      "9011  rt @ashleyrparker: even among trump defenders ...   en    United States   \n",
      "9012  rt @thegarance: that thing where reporters agg...   en    United States   \n",
      "9050  rt @irishrygirl: trump has golfed 173 times si...   en    United States   \n",
      "9059  rt @rubchicken: @ehsametrical @rocksiphone @re...   en    United States   \n",
      "9067  rt @dax_x98: this is sick  #trumpism is a cult...   en    United States   \n",
      "9071  rt @tonyschwartz: trump has tweeted five times...   en    United States   \n",
      "9075  rt @tonyschwartz: trump has tweeted five times...   en    United States   \n",
      "9076  rt @reformedbroker: \"i read the art of the dea...   en    United States   \n",
      "9184  rt @uncle_jimbo: c'mon senator \\n\\nyou know th...   en    United States   \n",
      "9201  @shikataganai100 @zylie @helenhs lol. trump ca...   en  California, USA   \n",
      "9235  rt @ladylibertyinex: endorsed by president tru...   en    United States   \n",
      "9260  @kylegriffin1 \"if i win i may never see my pro...   en    United States   \n",
      "9269  rt @kimstrassel: donald trump, meet bill browd...   en    United States   \n",
      "9331  rt @gartrelllinda: fbi used anti-trump media t...   en     Florida, USA   \n",
      "9374  rt @donaldjtrumpjr: nothing is shocking anymor...   en     Florida, USA   \n",
      "9480  rt @realdonaldtrump: .@petehegseth on @foxnews...   en     Florida, USA   \n",
      "9487  @comey bernie sanders has a million more time ...   en     Florida, USA   \n",
      "\n",
      "      names  polarity  \n",
      "17    trump  0.000000  \n",
      "55    trump  0.000000  \n",
      "76    trump  0.000000  \n",
      "92    trump  0.187500  \n",
      "111   trump  0.275000  \n",
      "159   trump  0.500000  \n",
      "164   trump  0.000000  \n",
      "233   trump  0.000000  \n",
      "240   trump  0.600000  \n",
      "244   trump -0.500000  \n",
      "254   trump  0.000000  \n",
      "308   trump  0.000000  \n",
      "324   trump  0.000000  \n",
      "347   trump  0.450000  \n",
      "380   trump  0.000000  \n",
      "381   trump  0.166667  \n",
      "419   trump  0.600000  \n",
      "427   trump  0.191667  \n",
      "433   trump  0.000000  \n",
      "439   trump  0.000000  \n",
      "446   trump  0.000000  \n",
      "482   trump  0.000000  \n",
      "505   trump  0.200000  \n",
      "559   trump  0.600000  \n",
      "562   trump -0.500000  \n",
      "616   trump -0.400000  \n",
      "648   trump  0.150000  \n",
      "655   trump  0.200000  \n",
      "679   trump  0.000000  \n",
      "681   trump  0.166667  \n",
      "...     ...       ...  \n",
      "8694  trump  0.100000  \n",
      "8695  trump  0.000000  \n",
      "8702  trump -0.250000  \n",
      "8714  trump -0.358333  \n",
      "8738  trump  0.450000  \n",
      "8809  trump  0.187500  \n",
      "8856  trump -0.500000  \n",
      "8871  trump  0.500000  \n",
      "8877  trump  0.800000  \n",
      "8881  trump  0.133333  \n",
      "8906  trump -0.104762  \n",
      "8939  trump  0.425000  \n",
      "8987  trump  0.000000  \n",
      "9011  trump  0.000000  \n",
      "9012  trump  0.000000  \n",
      "9050  trump  0.000000  \n",
      "9059  trump -0.425000  \n",
      "9067  trump -0.007143  \n",
      "9071  trump  0.030000  \n",
      "9075  trump  0.030000  \n",
      "9076  trump  0.183333  \n",
      "9184  trump -0.308333  \n",
      "9201  trump  0.800000  \n",
      "9235  trump  0.000000  \n",
      "9260  trump  0.800000  \n",
      "9269  trump  0.000000  \n",
      "9331  trump  0.000000  \n",
      "9374  trump -0.500000  \n",
      "9480  trump -0.550000  \n",
      "9487  trump  0.250000  \n",
      "\n",
      "[337 rows x 5 columns]\n"
     ]
    }
   ],
   "source": [
    "print(df3)"
   ]
  },
  {
   "cell_type": "code",
   "execution_count": 81,
   "metadata": {},
   "outputs": [],
   "source": [
    "df4 = pd.DataFrame(df3.groupby(['location'])['polarity'].mean())"
   ]
  },
  {
   "cell_type": "code",
   "execution_count": 82,
   "metadata": {},
   "outputs": [
    {
     "data": {
      "text/html": [
       "<div>\n",
       "<style>\n",
       "    .dataframe thead tr:only-child th {\n",
       "        text-align: right;\n",
       "    }\n",
       "\n",
       "    .dataframe thead th {\n",
       "        text-align: left;\n",
       "    }\n",
       "\n",
       "    .dataframe tbody tr th {\n",
       "        vertical-align: top;\n",
       "    }\n",
       "</style>\n",
       "<table border=\"1\" class=\"dataframe\">\n",
       "  <thead>\n",
       "    <tr style=\"text-align: right;\">\n",
       "      <th></th>\n",
       "      <th>polarity</th>\n",
       "    </tr>\n",
       "    <tr>\n",
       "      <th>location</th>\n",
       "      <th></th>\n",
       "    </tr>\n",
       "  </thead>\n",
       "  <tbody>\n",
       "    <tr>\n",
       "      <th>California, USA</th>\n",
       "      <td>0.028215</td>\n",
       "    </tr>\n",
       "    <tr>\n",
       "      <th>Florida, USA</th>\n",
       "      <td>0.040421</td>\n",
       "    </tr>\n",
       "    <tr>\n",
       "      <th>Texas, USA</th>\n",
       "      <td>0.111561</td>\n",
       "    </tr>\n",
       "    <tr>\n",
       "      <th>United States</th>\n",
       "      <td>0.056779</td>\n",
       "    </tr>\n",
       "  </tbody>\n",
       "</table>\n",
       "</div>"
      ],
      "text/plain": [
       "                 polarity\n",
       "location                 \n",
       "California, USA  0.028215\n",
       "Florida, USA     0.040421\n",
       "Texas, USA       0.111561\n",
       "United States    0.056779"
      ]
     },
     "execution_count": 82,
     "metadata": {},
     "output_type": "execute_result"
    }
   ],
   "source": [
    "df4.head()"
   ]
  },
  {
   "cell_type": "code",
   "execution_count": 83,
   "metadata": {},
   "outputs": [
    {
     "data": {
      "image/png": "[encoded data removed]",
      "text/plain": [
       "<matplotlib.figure.Figure at 0x1a25ab8d68>"
      ]
     },
     "metadata": {},
     "output_type": "display_data"
    }
   ],
   "source": [
    "fig, ax = plt.subplots()\n",
    "ax.tick_params(axis='x', labelsize=15)\n",
    "ax.tick_params(axis='y', labelsize=10)\n",
    "ax.set_xlabel('Location', fontsize=15)\n",
    "ax.set_ylabel('Polarity' , fontsize=15)\n",
    "ax.set_title('States Tweet Polarity for Trump', fontsize=15, fontweight='bold')\n",
    "my_colors = 'rgbmc'\n",
    "df4.plot(ax=ax, kind='bar', color= my_colors,legend = None)\n",
    "plt.show()"
   ]
  },
  {
   "cell_type": "code",
   "execution_count": 87,
   "metadata": {},
   "outputs": [],
   "source": [
    "states = ['California, USA','Florida, USA','Texas, USA','United States']\n",
    "voting_Percentages = [31.62,49.02,52.23,46.1]\n",
    "df5 = pd.DataFrame(voting_Percentages,states)"
   ]
  },
  {
   "cell_type": "code",
   "execution_count": 88,
   "metadata": {},
   "outputs": [
    {
     "name": "stdout",
     "output_type": "stream",
     "text": [
      "                     0\n",
      "California, USA  31.62\n",
      "Florida, USA     49.02\n",
      "Texas, USA       52.23\n",
      "United States    46.10\n"
     ]
    }
   ],
   "source": [
    "print(df5)"
   ]
  },
  {
   "cell_type": "code",
   "execution_count": 97,
   "metadata": {},
   "outputs": [
    {
     "data": {
      "image/png": "[encoded data removed]",
      "text/plain": [
       "<matplotlib.figure.Figure at 0x1a263ce978>"
      ]
     },
     "metadata": {},
     "output_type": "display_data"
    }
   ],
   "source": [
    "fig, ax = plt.subplots()\n",
    "ax.tick_params(axis='x', labelsize=15)\n",
    "ax.tick_params(axis='y', labelsize=10)\n",
    "ax.set_xlabel('Location', fontsize=15)\n",
    "ax.set_ylabel('Voting Percentages' , fontsize=15)\n",
    "ax.set_title('Election Voting Percentages for Trump (2016)', fontsize=15, fontweight='bold')\n",
    "my_colors = 'rgbmc'\n",
    "df5.plot(ax=ax, kind='bar', color= my_colors,legend = None)\n",
    "plt.show()"
   ]
  },
  {
   "cell_type": "code",
   "execution_count": null,
   "metadata": {
    "collapsed": true
   },
   "outputs": [],
   "source": []
  }
 ],
 "metadata": {
  "kernelspec": {
   "display_name": "Python 3",
   "language": "python",
   "name": "python3"
  },
  "language_info": {
   "codemirror_mode": {
    "name": "ipython",
    "version": 3
   },
   "file_extension": ".py",
   "mimetype": "text/x-python",
   "name": "python",
   "nbconvert_exporter": "python",
   "pygments_lexer": "ipython3",
   "version": "3.6.3"
  }
 },
 "nbformat": 4,
 "nbformat_minor": 2
}
