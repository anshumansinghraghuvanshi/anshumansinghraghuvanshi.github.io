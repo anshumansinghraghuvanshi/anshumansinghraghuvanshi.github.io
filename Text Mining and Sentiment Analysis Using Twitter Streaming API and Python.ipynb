{
 "cells": [
  {
   "cell_type": "code",
   "execution_count": 16,
   "metadata": {
    "collapsed": true
   },
   "outputs": [],
   "source": [
    "import tweepy\n",
    "import json"
   ]
  },
  {
   "cell_type": "code",
   "execution_count": 17,
   "metadata": {
    "collapsed": true
   },
   "outputs": [],
   "source": [
    "# Store OAuth authentication credentials in relevant variables\n",
    "access_token = \"********************************************"\n",
    "access_token_secret = \"*************************************"\n",
    "consumer_key = \"*****************************"\n",
    "consumer_secret = \"****************************************""
   ]
  },
  {
   "cell_type": "code",
   "execution_count": 18,
   "metadata": {
    "collapsed": true
   },
   "outputs": [],
   "source": [
    "# Pass OAuth details to tweepy's OAuth handler\n",
    "auth = tweepy.OAuthHandler(consumer_key,consumer_secret)\n",
    "auth.set_access_token(access_token,access_token_secret)"
   ]
  },
  {
   "cell_type": "code",
   "execution_count": 19,
   "metadata": {
    "collapsed": true
   },
   "outputs": [],
   "source": [
    "class MyStreamListener(tweepy.StreamListener):\n",
    "    def __init__(self, api=None):\n",
    "        super(MyStreamListener, self).__init__()\n",
    "        self.num_tweets = 0\n",
    "        self.file = open(\"tweets.txt\", \"w\")\n",
    "\n",
    "    def on_status(self, status):\n",
    "        tweet = status._json\n",
    "        self.file.write( json.dumps(tweet) + '\\n' )\n",
    "        self.num_tweets += 1\n",
    "        if self.num_tweets < 10000:\n",
    "            return True\n",
    "        else:\n",
    "            return False\n",
    "        self.file.close()\n",
    "\n",
    "    def on_error(self, status):\n",
    "        print(status)"
   ]
  },
  {
   "cell_type": "code",
   "execution_count": 20,
   "metadata": {
    "collapsed": true
   },
   "outputs": [],
   "source": [
    "# Initialize Stream listener\n",
    "l = MyStreamListener()\n",
    "\n",
    "# Create you Stream object with authentication\n",
    "stream = tweepy.Stream(auth, l)\n",
    "\n",
    "\n",
    "# Filter Twitter Streams to capture data by the keywords:\n",
    "stream.filter(track = ['obama', 'trump', 'putin', 'modi'])"
   ]
  },
  {
   "cell_type": "code",
   "execution_count": 60,
   "metadata": {},
   "outputs": [
    {
     "name": "stdout",
     "output_type": "stream",
     "text": [
      "dict_keys(['created_at', 'id', 'id_str', 'text', 'source', 'truncated', 'in_reply_to_status_id', 'in_reply_to_status_id_str', 'in_reply_to_user_id', 'in_reply_to_user_id_str', 'in_reply_to_screen_name', 'user', 'geo', 'coordinates', 'place', 'contributors', 'retweeted_status', 'is_quote_status', 'quote_count', 'reply_count', 'retweet_count', 'favorite_count', 'entities', 'favorited', 'retweeted', 'possibly_sensitive', 'filter_level', 'lang', 'timestamp_ms'])\n"
     ]
    }
   ],
   "source": [
    "import json\n",
    "\n",
    "# String of path to file: tweets_data_path\n",
    "tweets_data_path = 'tweets.txt'\n",
    "\n",
    "# Initialize empty list to store tweets: tweets_data\n",
    "tweets_data = []\n",
    "\n",
    "# Open connection to file\n",
    "tweets_file = open(tweets_data_path, \"r\")\n",
    "\n",
    "# Read in tweets and store in list: tweets_data\n",
    "for line in tweets_file:\n",
    "    tweet = json.loads(line)\n",
    "    tweets_data.append(tweet)\n",
    "\n",
    "# Close connection to file\n",
    "tweets_file.close()\n",
    "\n",
    "# Print the keys of the first tweet dict\n",
    "print(tweets_data[0].keys())"
   ]
  },
  {
   "cell_type": "code",
   "execution_count": 61,
   "metadata": {},
   "outputs": [
    {
     "name": "stdout",
     "output_type": "stream",
     "text": [
      "                                                text lang\n",
      "0  RT @kylegriffin1: The Chinese government is ba...   en\n",
      "1  @realDonaldTrump The only person committing il...   en\n",
      "2  @krassenstein investigators are looking into b...   en\n",
      "3  RT @EdKrassen: Perhaps the GOP isn't covering ...   en\n",
      "4  RT @krassenstein: Mark This Tweet.  We will ha...   en\n"
     ]
    }
   ],
   "source": [
    "# Import package\n",
    "import pandas as pd\n",
    "\n",
    "# Build DataFrame of tweet texts and languages\n",
    "df = pd.DataFrame(tweets_data , columns= ['text', 'lang'])\n",
    "\n",
    "# Print head of DataFrame\n",
    "print(df.head())"
   ]
  },
  {
   "cell_type": "code",
   "execution_count": 62,
   "metadata": {
    "collapsed": true
   },
   "outputs": [],
   "source": [
    "import re\n",
    "\n",
    "def word_in_text(word, text):\n",
    "    word = word.lower()\n",
    "    text = text.lower()\n",
    "    match = re.search(word, text)\n",
    "\n",
    "    if match:\n",
    "        return True\n",
    "    return False\n",
    "\n"
   ]
  },
  {
   "cell_type": "code",
   "execution_count": 63,
   "metadata": {},
   "outputs": [
    {
     "name": "stdout",
     "output_type": "stream",
     "text": [
      "                                                text lang  names\n",
      "0  RT @kylegriffin1: The Chinese government is ba...   en  trump\n",
      "1  @realDonaldTrump The only person committing il...   en  trump\n",
      "2  @krassenstein investigators are looking into b...   en   None\n",
      "3  RT @EdKrassen: Perhaps the GOP isn't covering ...   en  trump\n",
      "4  RT @krassenstein: Mark This Tweet.  We will ha...   en  trump\n",
      "[1040, 4401, 1092, 43]\n"
     ]
    }
   ],
   "source": [
    "[obama1, trump1 , putin1 , modi1 ]  = [0,0,0,0]\n",
    "names = []\n",
    "for index, row in df.iterrows():\n",
    "    \n",
    "    if word_in_text('obama', row['text']):\n",
    "        names.append(\"obama\")\n",
    "        obama1 +=1 \n",
    "    elif word_in_text('putin', row['text']):\n",
    "        names.append('putin')\n",
    "        putin1 +=1\n",
    "    elif word_in_text('modi', row['text']):\n",
    "        names.append('modi')\n",
    "        modi1 +=1\n",
    "    elif word_in_text('trump', row['text']):\n",
    "        names.append('trump')\n",
    "        trump1 +=1\n",
    "    else :\n",
    "        names.append('None')\n",
    "\n",
    "df[\"names\"] = names\n",
    "print(df.head())\n",
    "\n",
    "print([obama1, trump1 , putin1 , modi1 ])"
   ]
  },
  {
   "cell_type": "code",
   "execution_count": 7,
   "metadata": {},
   "outputs": [
    {
     "data": {
      "image/png": "iVBORw0KGgoAAAANSUhEUgAAAYgAAAD3CAYAAAAHQMOGAAAABHNCSVQICAgIfAhkiAAAAAlwSFlz\nAAALEgAACxIB0t1+/AAAADl0RVh0U29mdHdhcmUAbWF0cGxvdGxpYiB2ZXJzaW9uIDIuMS4wLCBo\ndHRwOi8vbWF0cGxvdGxpYi5vcmcvpW3flQAAFZlJREFUeJzt3WtQlOfdx/Hfza5HWE6VpEWLAdQx\npFGHITpNkaStp3TSJ31hFZ3RTO1o60QSmmDxEEAjCjQN9YnWaJ0kY2M8oSTjpNO0haIMJkLiDDXS\nmlhDqIpViDSyiwKy+7zI47aUCySGPajfzyu499rNf3eIX657D1gej8cjAAD+S0igBwAABCcCAQAw\nIhAAACMCAQAwIhAAACN7oAcYKE1NrYEeAQBuOTExjl4vYwcBADAiEAAAIwIBADAiEAAAIwIBADAi\nEAAAIwIBADAiEAAAIwIBADAiEAAAo9vmozbgX8vfejbQIwSN5x/ND/QIgE+wgwAAGBEIAIARgQAA\nGBEIAIARgQAAGBEIAIARgQAAGBEIAIARgQAAGBEIAIARgQAAGBEIAICRTz+s7wc/+IEcDockadSo\nUZo7d67Wr18vm82m1NRULVu2TG63W2vWrNGHH36owYMHKz8/X6NHj1ZtbW2PtQAA//FZINrb2yVJ\nr732mvfYY489pk2bNunrX/+6lixZorq6Op07d04dHR3au3evamtrVVhYqJdeekl5eXk91t53332+\nGhcA8F98FoiTJ0/qypUrWrRoka5du6aMjAx1dHQoLi5OkpSamqp3331XTU1Nmjp1qiRp0qRJOnHi\nhJxOp3EtgQAA//FZIIYOHaof//jH+uEPf6hPPvlEixcvVnh4uPfy0NBQnTlzRk6nU2FhYd7jNput\nx7Hra/sSFTVcdrtt4O8IcAMxMY5AjwD4hM8CER8fr9GjR8uyLMXHx8vhcOhf//qX93KXy6Xw8HBd\nvXpVLpfLe9ztdissLKzbsetr+9LS0jbwdwLoh6am1kCPANy0vn7B8dmrmPbv36/CwkJJ0oULF3Tl\nyhUNHz5c//jHP+TxeFRVVaWUlBQlJyersrJSklRbW6tx48YpLCxMgwYN6rEWAOA/PttBzJ49WytX\nrtS8efNkWZY2bNigkJAQZWVlqaurS6mpqZo4caLuv/9+HTlyROnp6fJ4PNqwYYMkae3atT3WAgD8\nx/J4PJ5ADzEQ2Ob7F3+T+t/4m9S4lQXkFBMA4NZGIAAARgQCAGBEIAAARgQCAGBEIAAARgQCAGBE\nIAAARgQCAGBEIAAARgQCAGBEIAAARgQCAGBEIAAARgQCAGBEIAAARgQCAGBEIAAARgQCAGBEIAAA\nRgQCAGBEIAAARgQCAGBEIAAARgQCAGBEIAAARgQCAGBEIAAARgQCAGBEIAAARj4NxKeffqqHHnpI\np0+fVkNDg+bNm6f58+crLy9PbrdbkrR582bNnj1b6enpOn78uCT1uhYA4D8+C0RnZ6dyc3M1dOhQ\nSVJBQYEyMzO1a9cueTwelZeXq66uTjU1NSopKVFxcbHWrl3b61oAgH/5LBBFRUVKT0/XXXfdJUmq\nq6vT5MmTJUlpaWl65513dOzYMaWmpsqyLMXGxqqrq0uXLl0yrgUA+JfdFzdaWlqq6OhoTZ06Vb/5\nzW8kSR6PR5ZlSZJCQ0PV2toqp9OpyMhI7/WuHzetvZGoqOGy220+uDdA32JiHIEeAfAJnwTiwIED\nsixL7777rv72t78pOztbly5d8l7ucrkUHh6usLAwuVyubscdDodCQkJ6rL2Rlpa2gb0TQD81Nd34\nFxggWPX1C45PTjG9/vrr2rlzp1577TXde++9KioqUlpamqqrqyVJlZWVSklJUXJysqqqquR2u9XY\n2Ci3263o6GglJSX1WAsA8C+f7CBMsrOzlZOTo+LiYiUkJGjmzJmy2WxKSUnR3Llz5Xa7lZub2+ta\nAIB/WR6PxxPoIQYC23z/Wv7Ws4EeIWg8/2h+oEcAbprfTzEBAG59BAIAYEQgAABGBAIAYEQgAABG\nBAIAYEQgAABGBAIAYEQgAABGBAIAYEQgAABGBAIAYEQgAABGBAIAYEQgAABGBAIAYEQgAABGBAIA\nYEQgAABGBAIAYEQgAABGBAIAYEQgAABGBAIAYEQgAABGBAIAYEQgAABGBAIAYNSvQKxbt67Hsezs\n7AEfBgAQPOx9Xbh69WqdOXNGJ06c0KlTp7zHr127ptbWVp8PBwAInD4DsXTpUp07d07r16/XsmXL\nvMdtNpsSExN9PhwAIHD6DMSoUaM0atQoHTx4UE6nU62trfJ4PJKktrY2RUZG9nrdrq4uPfvss6qv\nr5fNZlNBQYE8Ho9WrFghy7I0duxY5eXlKSQkRJs3b9ahQ4dkt9u1atUqTZgwQQ0NDca1AAD/6DMQ\n123btk3btm3rFgTLslReXt7rdSoqKiRJe/bsUXV1tTcQmZmZmjJlinJzc1VeXq7Y2FjV1NSopKRE\n58+fV0ZGhg4cOKCCgoIea6dPn/4l7y4AoL/6FYiSkhKVlZUpOjq63zc8bdo0Pfzww5KkxsZGjRgx\nQocOHdLkyZMlSWlpaTpy5Iji4+OVmpoqy7IUGxurrq4uXbp0SXV1dT3W9hWIqKjhsttt/Z4PGCgx\nMY5AjwD4RL8C8bWvfU0RERFf/MbtdmVnZ+tPf/qTXnzxRVVUVMiyLElSaGioWltb5XQ6u+1Mrh/3\neDw91valpaXtC88HDISmJl6wgVtXX7/g9CsQ99xzj+bPn68pU6Zo8ODB3uP/+cR1b4qKipSVlaU5\nc+aovb3de9zlcik8PFxhYWFyuVzdjjscjm7PN1xfCwDwn34963v33Xdr6tSp3eJwI2+++aa2bdsm\nSRo2bJgsy9I3vvENVVdXS5IqKyuVkpKi5ORkVVVVye12q7GxUW63W9HR0UpKSuqxFgDgP5bn+suS\nBlhbW5tWrlyp5uZmXbt2TYsXL1ZiYqJycnLU2dmphIQE5efny2azadOmTaqsrJTb7dbKlSuVkpKi\n+vp649resM33r+VvPRvoEYLG84/mB3oE4Kb1dYqpX4EYP3689/mA6+666y4dPnz4y083QAiEfxGI\nfyMQuJV96ecgTp486f26s7NTZWVlqq2t/fKTAQCC1hd+59mgQYP0yCOP6OjRo76YBwAQJPq1g3jz\nzTe9X3s8Hp06dUp2e7+uCgC4RfXrX/nrrya6LioqShs3bvTJQACA4NCvQBQUFKizs1P19fXq6urS\n2LFj2UEAwG2uX//KnzhxQk8++aQiIyPldrvV3NysX//615o4caKv5wMABEi/ApGfn69f/epX3iDU\n1tZq3bp12r9/v0+HAwAETr9exdTW1tZttzBp0qRuH5sBALj99CsQERERKisr835fVlbW59+CAADc\n+vp1imndunX6yU9+otWrV3uP7dmzx2dDAQACr187iMrKSg0bNkwVFRXasWOHoqOjVVNT4+vZAAAB\n1K9A7Nu3T7t379bw4cM1fvx4lZaWaufOnb6eDQAQQP0KRGdnpwYNGuT9/j+/BgDcnvr1HMS0adP0\n+OOP65FHHpFlWfrDH/6g7373u76eDQAQQP0KxPLly/X222/rvffek91u18KFCzVt2jRfzwYACKB+\nf17GrFmzNGvWLF/OAgAIIl/4474BAHcGAgEAMCIQAAAjAgEAMCIQAAAjAgEAMCIQAAAjAgEAMCIQ\nAAAjAgEAMCIQAAAjAgEAMCIQAAAjAgEAMOr3x31/EZ2dnVq1apXOnTunjo4OLV26VGPGjNGKFStk\nWZbGjh2rvLw8hYSEaPPmzTp06JDsdrtWrVqlCRMmqKGhwbgWAOA/PvlX9+DBg4qMjNSuXbu0fft2\nrVu3TgUFBcrMzNSuXbvk8XhUXl6uuro61dTUqKSkRMXFxVq7dq0kGdcCAPzLJzuIWbNmaebMmd7v\nbTab6urqNHnyZElSWlqajhw5ovj4eKWmpsqyLMXGxqqrq0uXLl0yrp0+fXqf/82oqOGy222+uDtA\nn2JiHIEeAfAJnwQiNDRUkuR0OvXkk08qMzNTRUVFsizLe3lra6ucTqciIyO7Xa+1tVUej6fH2htp\naWnzwT0Bbqyp6cY/n0Cw6usXHJ+d2D9//rwWLlyoxx57TN///ve7PYfgcrkUHh6usLAwuVyubscd\nDodxLQDAv3wSiObmZi1atEjLly/X7NmzJUlJSUmqrq6WJFVWViolJUXJycmqqqqS2+1WY2Oj3G63\noqOjjWsBAP7lk1NMW7du1eXLl7VlyxZt2bJFkrR69Wrl5+eruLhYCQkJmjlzpmw2m1JSUjR37ly5\n3W7l5uZKkrKzs5WTk9NtLQDAvyyPx+MJ9BADgfPA/rX8rWcDPULQeP7R/ECPANy0gDwHAQC4tREI\nAIARgQAAGBEIAIARgQAAGBEIAIARgQAAGBEIAIARgQAAGBEIAIARgQAAGBEIAIARgQAAGBEIAIAR\ngQAAGBEIAIARgQAAGBEIAIARgQAAGBEIAIARgQAAGBEIAIARgQAAGBEIAIARgQAAGBEIAIARgQAA\nGNkDPQAA6b1nngz0CEHjgRdeDPQI+H/sIAAARgQCAGDk00D85S9/0YIFCyRJDQ0NmjdvnubPn6+8\nvDy53W5J0ubNmzV79mylp6fr+PHjfa4FAPiPz56D2L59uw4ePKhhw4ZJkgoKCpSZmakpU6YoNzdX\n5eXlio2NVU1NjUpKSnT+/HllZGTowIEDxrXTp0//0jM99fzBL30bt4v/Xf4/gR4BQJDz2Q4iLi5O\nmzZt8n5fV1enyZMnS5LS0tL0zjvv6NixY0pNTZVlWYqNjVVXV5cuXbpkXAsA8C+f7SBmzpyps2fP\ner/3eDyyLEuSFBoaqtbWVjmdTkVGRnrXXD9uWnsjUVHDZbfbBvhe3L5iYhyBHuG2wWM5sHg8g4ff\nXuYaEvLvzYrL5VJ4eLjCwsLkcrm6HXc4HMa1N9LS0jawA9/mmppuHF30D4/lwOLx9K++guy3VzEl\nJSWpurpaklRZWamUlBQlJyerqqpKbrdbjY2Ncrvdio6ONq4FAPiX33YQ2dnZysnJUXFxsRISEjRz\n5kzZbDalpKRo7ty5crvdys3N7XUtAMC/fBqIUaNGad++fZKk+Ph47dy5s8eajIwMZWRkdDvW21oA\ngP/wRjkAgBGBAAAYEQgAgBGBAAAYEQgAgBGBAAAYEQgAgBGBAAAYEQgAgBGBAAAYEQgAgBGBAAAY\nEQgAgBGBAAAYEQgAgBGBAAAYEQgAgBGBAAAYEQgAgBGBAAAYEQgAgBGBAAAYEQgAgBGBAAAYEQgA\ngBGBAAAYEQgAgBGBAAAYEQgAgBGBAAAY2QM9QG/cbrfWrFmjDz/8UIMHD1Z+fr5Gjx4d6LEA4I4R\ntIEoKytTR0eH9u7dq9raWhUWFuqll14K9FgAbgHbN74d6BGCxuLMWTd93aA9xXTs2DFNnTpVkjRp\n0iSdOHEiwBMBwJ3F8ng8nkAPYbJ69WrNmDFDDz30kCTp4YcfVllZmez2oN30AMBtJWh3EGFhYXK5\nXN7v3W43cQAAPwraQCQnJ6uyslKSVFtbq3HjxgV4IgC4swTtKabrr2L66KOP5PF4tGHDBiUmJgZ6\nLAC4YwRtIAAAgRW0p5gAAIFFIAAARgQCAGBEIAbIggULdPr06UCPcUtrb29XSUlJoMe4o+3cuVOS\nVFlZqb179wZ4mttTe3u7vvOd70iS1q9fr8bGxgBP1DsCgaDR1NREIALs+sfZpKWlae7cuQGe5va3\nevVqxcbGBnqMXvHOs5vQ2dmpVatW6cyZM+rq6tKPfvQjSdKLL76olpYWDR48WL/4xS8UERGh3Nxc\n/fOf/1RLS4vS0tKUmZmpFStWyG63q7GxUR0dHfre976niooKnT9/Xlu2bNHIkSON17vdbd26VX//\n+981fvx4Pfjgg2pra9P69eu1cuVK7du3T5I0Z84cFRcX64033lBDQ4NaWlr02Wefaf78+frjH/+o\n+vp6FRUVacSIEXrqqacUExOjCxcuKC0tTT/72c8CfA8Do7S0VOXl5XI6nWppadETTzyhoqIi/f73\nv9eQIUP0y1/+UgkJCbpw4YI+++wzrVmzRhMmTNDHH3+s9PR0PfPMM/rqV7+qM2fO6P7779fatWsD\nfZcCqrS0VBUVFbp69aqampq0cOFClZeX69SpU/r5z3+utrY27dixQ4MHD9Y999yj5557Th0dHcrK\nytLly5cVFxfnva0FCxZozZo1QfsSfnYQN2Hv3r2KiorSnj179Oqrr2rjxo1qaWnRjBkz9Nvf/lbf\n/va3tW3bNp0/f16TJk3Syy+/rN27d2v37t3e2xg5cqReeeUVJSQk6OzZs9q+fbtmzJihP//5z31e\n73b205/+VGPGjNETTzyhhIQE7dmzR0OGDOl1/dChQ/Xyyy9rxowZOnz4sLZu3aolS5bod7/7nSTp\n3LlzKiws1P79+3X06FHV1dX5664Enba2Nr366qt65ZVXVFhYqGvXrvVYs3TpUkVERGjNmjXdjn/y\nySdav369SkpKVFlZqaamJj9NHbxcLpe2b9+uxYsXa/fu3dq8ebOee+457d+/X5s2bdKOHTu0e/du\nORwO7d27V2+88YbGjRun119/Xenp6YEev9/YQdyE06dP68EHH5T0+UeCJCYm6siRI0pJSZH0+bvA\nDx8+rMjISH3wwQc6evSowsLC1NHR4b2NpKQkSVJ4eLgSEhK8X3d0dPR5vTtFfHy88fh/vm3n+mPo\ncDg0ZswYSVJERITa29slSePHj1dkZKQkacKECaqvr9d9993ny7GD1gMPPKCQkBCNGDFC4eHh3Z4v\nu9FboeLi4hQWFiZJiomJ8T6+d7J7771X0uc/e4mJibIsSxEREbpy5YrGjBnjfbweeOABVVVVSZL3\nw0cnTpx4y3xsEDuIm5CYmKj3339fkuR0OvXRRx9p1KhR+uCDDyRJ77//vsaOHavS0lI5HA698MIL\nWrRoka5ever9n9GyrF5vv6/r3c5CQkLkdru9X0vSkCFD9Omnn6qrq0uXL1/W2bNnvev7egylz0N+\n5coVdXV16fjx496I3Imu756am5vldDoVGxurixcvyuPx6OTJk951pp+zGz3Od6LeHhPLsnT69Gm1\ntbVJkmpqahQfH6+EhATV1tZKkv76178ad3DB6NbIWJCZM2eOcnJyNG/ePLW3t2vZsmUqLS1VWVmZ\nduzYodDQUBUVFenixYt6+umndezYMQ0bNkyjR4/WxYsXb3j73/zmN43Xu/vuu/1w7wLnK1/5ijo7\nO3X16lXvsZiYGH3rW9/S7NmzFRcX94X+aNSgQYP01FNPqbm5WbNmzdL48eN9MfYtobm5WY8//rha\nW1uVl5enixcvasmSJRo5cqTCw8O96xITE5WVleXdIeOLsdlsysjI0MKFCxUSEqK4uDhlZWXJZrNp\n5cqVmjdvnhISEjRo0KBAj9ovfNQGbktnz57V008/7X1y+05WWlqqjz/+WFlZWYEeBbcYTjEBAIzY\nQQAAjNhBAACMCAQAwIhAAACMCAQAwIhAAACM/g8p4hv+W4mgZAAAAABJRU5ErkJggg==\n",
      "text/plain": [
       "<matplotlib.figure.Figure at 0x11dc12cc0>"
      ]
     },
     "metadata": {},
     "output_type": "display_data"
    }
   ],
   "source": [
    "import matplotlib.pyplot as plt\n",
    "import seaborn as sns\n",
    "\n",
    "\n",
    "# Set seaborn style\n",
    "sns.set(color_codes=True)\n",
    "\n",
    "# Create a list of labels:cd\n",
    "cd = ['obama', 'trump', 'putin', 'modi']\n",
    "\n",
    "# Plot histogram\n",
    "ax = sns.barplot(cd,[obama1, trump1, putin1, modi1])\n",
    "ax.set(ylabel=\"count\")\n",
    "plt.show()"
   ]
  },
  {
   "cell_type": "code",
   "execution_count": 64,
   "metadata": {
    "collapsed": true
   },
   "outputs": [],
   "source": [
    "from textblob import TextBlob\n",
    "\n",
    "df1=df\n",
    "\n",
    "def strip_non_ascii(string):\n",
    "    ''' Returns the string without non ASCII characters'''\n",
    "    stripped = (c for c in string if 0 < ord(c) < 127)\n",
    "    return ''.join(stripped)"
   ]
  },
  {
   "cell_type": "code",
   "execution_count": 65,
   "metadata": {
    "collapsed": true
   },
   "outputs": [],
   "source": [
    "for index, row in df1.iterrows():\n",
    "       row[0]=row[0].lower()\n",
    "       row[0] = strip_non_ascii(row[0])\n",
    "       row[0] = re.sub(r'http[s]?://(?:[a-zA-Z]|[0-9]|[$-_@.&+]|[!*\\(\\),]|(?:%[0-9a-fA-F][0-9a-fA-F]))+', '', row[0])"
   ]
  },
  {
   "cell_type": "code",
   "execution_count": 66,
   "metadata": {
    "collapsed": true
   },
   "outputs": [],
   "source": [
    "polarity=[]\n",
    "for index, row in df1.iterrows():     \n",
    "        polarity.append(float(TextBlob(row[0]).sentiment.polarity))\n",
    "df1['polarity'] = polarity        \n",
    "\n"
   ]
  },
  {
   "cell_type": "code",
   "execution_count": 68,
   "metadata": {
    "collapsed": true
   },
   "outputs": [],
   "source": [
    "#Subsetting the data frame for the indivisuals\n",
    "dfobama=df1[df1[\"names\"]== \"obama\"]\n",
    "dftrump=df1[df1[\"names\"]== \"trump\"]\n",
    "dfputin=df1[df1[\"names\"]== \"putin\"]\n",
    "dfmodi=df1[df1[\"names\"]== \"modi\"]\n",
    "\n"
   ]
  },
  {
   "cell_type": "code",
   "execution_count": 69,
   "metadata": {
    "collapsed": true
   },
   "outputs": [],
   "source": [
    "# Taking Mean of all Polarities\n",
    "obama_pol=dfobama[\"polarity\"].mean()\n",
    "trump_pol=dftrump[\"polarity\"].mean()\n",
    "putin_pol=dfputin[\"polarity\"].mean()\n",
    "modi_pol= dfmodi[\"polarity\"].mean()"
   ]
  },
  {
   "cell_type": "code",
   "execution_count": 70,
   "metadata": {},
   "outputs": [
    {
     "data": {
      "image/png": "iVBORw0KGgoAAAANSUhEUgAAAYUAAAD3CAYAAADyvkg2AAAABHNCSVQICAgIfAhkiAAAAAlwSFlz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\nS90AAAAASUVORK5CYII=\n",
      "text/plain": [
       "<matplotlib.figure.Figure at 0x1a2ac89ef0>"
      ]
     },
     "metadata": {},
     "output_type": "display_data"
    }
   ],
   "source": [
    "# Creating Polarity plot\n",
    "sns.set(color_codes=True)\n",
    "\n",
    "# Create a list of labels:cd\n",
    "cd = ['obama', 'trump', 'putin', 'modi']\n",
    "\n",
    "# Plot histogram\n",
    "ax = sns.barplot(cd,[obama_pol, trump_pol, putin_pol, modi_pol])\n",
    "ax.set(ylabel=\"Polarity Mean\")\n",
    "plt.show()"
   ]
  },
  {
   "cell_type": "code",
   "execution_count": null,
   "metadata": {
    "collapsed": true
   },
   "outputs": [],
   "source": []
  },
  {
   "cell_type": "code",
   "execution_count": null,
   "metadata": {
    "collapsed": true
   },
   "outputs": [],
   "source": []
  },
  {
   "cell_type": "code",
   "execution_count": null,
   "metadata": {
    "collapsed": true
   },
   "outputs": [],
   "source": []
  }
 ],
 "metadata": {
  "kernelspec": {
   "display_name": "Python 3",
   "language": "python",
   "name": "python3"
  },
  "language_info": {
   "codemirror_mode": {
    "name": "ipython",
    "version": 3
   },
   "file_extension": ".py",
   "mimetype": "text/x-python",
   "name": "python",
   "nbconvert_exporter": "python",
   "pygments_lexer": "ipython3",
   "version": "3.6.3"
  }
 },
 "nbformat": 4,
 "nbformat_minor": 2
}
